{
  "nbformat": 4,
  "nbformat_minor": 0,
  "metadata": {
    "colab": {
      "provenance": []
    },
    "kernelspec": {
      "name": "python3",
      "display_name": "Python 3"
    },
    "language_info": {
      "name": "python"
    }
  },
  "cells": [
    {
      "cell_type": "code",
      "execution_count": null,
      "metadata": {
        "colab": {
          "base_uri": "https://localhost:8080/"
        },
        "id": "sjWNLGSAVx3J",
        "outputId": "1be7e8e6-bafb-4726-e7ec-254fe8416589"
      },
      "outputs": [
        {
          "output_type": "stream",
          "name": "stdout",
          "text": [
            "a = 10 < 10\n",
            "20\n"
          ]
        }
      ],
      "source": [
        "a = 10\n",
        "b = 20\n",
        "if a > 10:\n",
        "  print(a)\n",
        "  a = a + 20\n",
        "else:\n",
        "  print(f\"a = {a} < 10\")\n",
        "  if b < 25:\n",
        "    print(b)\n",
        "  else:\n",
        "    print(a)"
      ]
    },
    {
      "cell_type": "code",
      "source": [
        "if a > 10:\n",
        "  print(a)\n",
        "elif a == 10:\n",
        "  print(\"a == 10\")\n",
        "else:\n",
        "  print(\"a < 10\")"
      ],
      "metadata": {
        "colab": {
          "base_uri": "https://localhost:8080/"
        },
        "id": "rLpvqoRHYvkf",
        "outputId": "a88af273-aacc-4bb8-985e-1ff95c0ea969"
      },
      "execution_count": null,
      "outputs": [
        {
          "output_type": "stream",
          "name": "stdout",
          "text": [
            "a == 10\n"
          ]
        }
      ]
    },
    {
      "cell_type": "code",
      "source": [
        "if (a > 10 or a == 10) and b < 20:\n",
        "  print(a + b)"
      ],
      "metadata": {
        "id": "YSucVhfJZGK6"
      },
      "execution_count": null,
      "outputs": []
    },
    {
      "cell_type": "code",
      "source": [
        "for i in range(10):\n",
        "  print(f'i = {i}')"
      ],
      "metadata": {
        "colab": {
          "base_uri": "https://localhost:8080/"
        },
        "id": "IS6PSclVZPgl",
        "outputId": "08fff0b7-6d42-4e40-c603-f815972f4588"
      },
      "execution_count": null,
      "outputs": [
        {
          "output_type": "stream",
          "name": "stdout",
          "text": [
            "i = 0\n",
            "i = 1\n",
            "i = 2\n",
            "i = 3\n",
            "i = 4\n",
            "i = 5\n",
            "i = 6\n",
            "i = 7\n",
            "i = 8\n",
            "i = 9\n"
          ]
        }
      ]
    },
    {
      "cell_type": "code",
      "source": [
        "li = [1, 2, 3, 10, 20]\n",
        "for e in li:\n",
        "  print(f'e = {e}')"
      ],
      "metadata": {
        "colab": {
          "base_uri": "https://localhost:8080/"
        },
        "id": "6UjXsdyLZuKX",
        "outputId": "f61e1d56-3c04-4216-b50c-d47a54150d47"
      },
      "execution_count": null,
      "outputs": [
        {
          "output_type": "stream",
          "name": "stdout",
          "text": [
            "e = 1\n",
            "e = 2\n",
            "e = 3\n",
            "e = 10\n",
            "e = 20\n"
          ]
        }
      ]
    },
    {
      "cell_type": "code",
      "source": [
        "for i in range(len(li)):\n",
        "  print(f'li[{i}] = {li[i]}')"
      ],
      "metadata": {
        "colab": {
          "base_uri": "https://localhost:8080/"
        },
        "id": "-kzroXJIZ3Bm",
        "outputId": "9f4e0608-53af-4c5a-b2ad-3d44a46a1c4c"
      },
      "execution_count": null,
      "outputs": [
        {
          "output_type": "stream",
          "name": "stdout",
          "text": [
            "li[0] = 1\n",
            "li[1] = 2\n",
            "li[2] = 3\n",
            "li[3] = 10\n",
            "li[4] = 20\n"
          ]
        }
      ]
    },
    {
      "cell_type": "code",
      "source": [
        "i = 0\n",
        "while i < len(li):\n",
        "  print(f'li[{i}] = {li[i]}')\n",
        "  i = i+1"
      ],
      "metadata": {
        "colab": {
          "base_uri": "https://localhost:8080/"
        },
        "id": "_i6oYY8AaMPL",
        "outputId": "a5e3be66-c7df-4f71-85e0-82d251b16810"
      },
      "execution_count": null,
      "outputs": [
        {
          "output_type": "stream",
          "name": "stdout",
          "text": [
            "li[0] = 1\n",
            "li[1] = 2\n",
            "li[2] = 3\n",
            "li[3] = 10\n",
            "li[4] = 20\n"
          ]
        }
      ]
    },
    {
      "cell_type": "code",
      "source": [
        "for i in range(len(li)):\n",
        "  print(f'li[{len(li)-1-i}] = {li[len(li)-1-i]}')"
      ],
      "metadata": {
        "colab": {
          "base_uri": "https://localhost:8080/"
        },
        "id": "KBZ3FUMXagqD",
        "outputId": "8d8ac943-bbb1-44dc-8212-a3f4a0d043d6"
      },
      "execution_count": null,
      "outputs": [
        {
          "output_type": "stream",
          "name": "stdout",
          "text": [
            "li[4] = 20\n",
            "li[3] = 10\n",
            "li[2] = 3\n",
            "li[1] = 2\n",
            "li[0] = 1\n"
          ]
        }
      ]
    },
    {
      "cell_type": "code",
      "source": [
        "def numele_functiei(a, b=10):\n",
        "  c = a + b\n",
        "  d = c / a\n",
        "  return c, d\n",
        "\n",
        "numele_functiei(a=10, b=10)"
      ],
      "metadata": {
        "colab": {
          "base_uri": "https://localhost:8080/"
        },
        "id": "wBxU2E-1ayau",
        "outputId": "8106c692-a8fb-4c8b-ea2f-170e2efd9ea2"
      },
      "execution_count": null,
      "outputs": [
        {
          "output_type": "execute_result",
          "data": {
            "text/plain": [
              "(20, 2.0)"
            ]
          },
          "metadata": {},
          "execution_count": 21
        }
      ]
    },
    {
      "cell_type": "code",
      "source": [
        "numele_functiei(b=10, a=5)"
      ],
      "metadata": {
        "id": "oFnQBWx6bhTK",
        "colab": {
          "base_uri": "https://localhost:8080/"
        },
        "outputId": "4b81fdab-ef02-406f-a01d-7e1a78b36c48"
      },
      "execution_count": null,
      "outputs": [
        {
          "output_type": "execute_result",
          "data": {
            "text/plain": [
              "(15, 3.0)"
            ]
          },
          "metadata": {},
          "execution_count": 22
        }
      ]
    },
    {
      "cell_type": "code",
      "source": [
        "def sum(*argv):\n",
        "  s = 0\n",
        "  for i in argv:\n",
        "    s = s + i\n",
        "  return s\n",
        "\n",
        "sum(1, 2, 3, 4, 5)"
      ],
      "metadata": {
        "colab": {
          "base_uri": "https://localhost:8080/"
        },
        "id": "MerclLd7d3BD",
        "outputId": "52f0e498-ccd4-4f7b-ca49-e82eb6c1786d"
      },
      "execution_count": null,
      "outputs": [
        {
          "output_type": "execute_result",
          "data": {
            "text/plain": [
              "15"
            ]
          },
          "metadata": {},
          "execution_count": 23
        }
      ]
    },
    {
      "cell_type": "code",
      "source": [
        "sum(1, 3)"
      ],
      "metadata": {
        "colab": {
          "base_uri": "https://localhost:8080/"
        },
        "id": "GLE6DILLeLqH",
        "outputId": "43178e84-9240-41b0-d99a-57b967e27bc8"
      },
      "execution_count": null,
      "outputs": [
        {
          "output_type": "execute_result",
          "data": {
            "text/plain": [
              "4"
            ]
          },
          "metadata": {},
          "execution_count": 24
        }
      ]
    },
    {
      "cell_type": "code",
      "source": [
        "def product(**kwargs):\n",
        "  p = 1\n",
        "  values = kwargs.values()\n",
        "  for value in values:\n",
        "    p = p * value\n",
        "  return p\n",
        "\n",
        "product(a=10, c=100, alt_parametru=2000)"
      ],
      "metadata": {
        "colab": {
          "base_uri": "https://localhost:8080/"
        },
        "id": "PJ6JThMyeN38",
        "outputId": "88380e33-75df-49c5-ad76-eb862930aeab"
      },
      "execution_count": null,
      "outputs": [
        {
          "output_type": "execute_result",
          "data": {
            "text/plain": [
              "2000000"
            ]
          },
          "metadata": {},
          "execution_count": 25
        }
      ]
    },
    {
      "cell_type": "code",
      "source": [
        "import sqlite3\n",
        "from sqlite3 import connect\n",
        "\n"
      ],
      "metadata": {
        "id": "r9ELhtxBfiM_"
      },
      "execution_count": null,
      "outputs": []
    },
    {
      "cell_type": "code",
      "source": [
        "def filter(li, cond):\n",
        "  results = []\n",
        "  for el in li:\n",
        "    if cond(el) == True:\n",
        "      results.append(el)\n",
        "  return results\n",
        "\n",
        "def greaterThan7(n):\n",
        "  return n > 7\n",
        "\n",
        "li = [1, 2, 3, 9, 10, 11, 12]\n",
        "filter(li, greaterThan7)"
      ],
      "metadata": {
        "colab": {
          "base_uri": "https://localhost:8080/"
        },
        "id": "J5WpHeajemvI",
        "outputId": "c13da6d8-d1f6-4a34-cbd8-b194e8da635b"
      },
      "execution_count": null,
      "outputs": [
        {
          "output_type": "execute_result",
          "data": {
            "text/plain": [
              "[9, 10, 11, 12]"
            ]
          },
          "metadata": {},
          "execution_count": 26
        }
      ]
    },
    {
      "cell_type": "code",
      "source": [],
      "metadata": {
        "id": "12d_k_fyfBx_"
      },
      "execution_count": null,
      "outputs": []
    }
  ]
}