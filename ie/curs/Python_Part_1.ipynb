{
  "nbformat": 4,
  "nbformat_minor": 0,
  "metadata": {
    "colab": {
      "provenance": []
    },
    "kernelspec": {
      "name": "python3",
      "display_name": "Python 3"
    },
    "language_info": {
      "name": "python"
    }
  },
  "cells": [
    {
      "cell_type": "code",
      "execution_count": null,
      "metadata": {
        "id": "Y8EwJjtcRPg3"
      },
      "outputs": [],
      "source": [
        "def f(a, b):\n",
        "  return a + b"
      ]
    },
    {
      "cell_type": "code",
      "source": [
        "sir = \"abcdefgh\"\n",
        "sir.islower()"
      ],
      "metadata": {
        "colab": {
          "base_uri": "https://localhost:8080/"
        },
        "id": "ZDUXkikLWh8P",
        "outputId": "c7f01699-e5f9-462a-c346-1e36f0a8893b"
      },
      "execution_count": null,
      "outputs": [
        {
          "output_type": "execute_result",
          "data": {
            "text/plain": [
              "True"
            ]
          },
          "metadata": {},
          "execution_count": 4
        }
      ]
    },
    {
      "cell_type": "code",
      "source": [
        "sir.find(\"f\")"
      ],
      "metadata": {
        "colab": {
          "base_uri": "https://localhost:8080/"
        },
        "id": "YlV0pPQ8XWRD",
        "outputId": "9e321009-41f6-4cc8-eed6-54d9faefcb6e"
      },
      "execution_count": null,
      "outputs": [
        {
          "output_type": "execute_result",
          "data": {
            "text/plain": [
              "5"
            ]
          },
          "metadata": {},
          "execution_count": 6
        }
      ]
    },
    {
      "cell_type": "code",
      "source": [
        "a = 10\n",
        "b = 12.23\n",
        "c = \"sir de caractere\"\n",
        "d = 'sir de caractere'\n",
        "e = f\"sir de caractere {a}\"\n",
        "f = f'sir de caractere {a}'\n",
        "g = \"\"\"sir de caractere\n",
        "pe mai multe randuri\"\"\"\n",
        "h = '''sir de caractere pe\n",
        "mai multe randuri'''\n",
        "\n",
        "i = \"\\\"What's up?\\\"\"\n",
        "j = True\n",
        "k = False\n",
        "l = None"
      ],
      "metadata": {
        "id": "rnOBypxPXaAE"
      },
      "execution_count": null,
      "outputs": []
    },
    {
      "cell_type": "code",
      "source": [
        "l1 = [1, 2, 3, 4, 5, 6, a, b, c, d, e, f]\n",
        "l1"
      ],
      "metadata": {
        "colab": {
          "base_uri": "https://localhost:8080/"
        },
        "id": "L-1qvYIIY8kp",
        "outputId": "5a686255-9f39-4392-beea-1505ae88579b"
      },
      "execution_count": null,
      "outputs": [
        {
          "output_type": "execute_result",
          "data": {
            "text/plain": [
              "[1,\n",
              " 2,\n",
              " 3,\n",
              " 4,\n",
              " 5,\n",
              " 6,\n",
              " 10,\n",
              " 12.23,\n",
              " 'sir de caractere',\n",
              " 'sir de caractere',\n",
              " 'sir de caractere 10',\n",
              " 'sir de caractere 10']"
            ]
          },
          "metadata": {},
          "execution_count": 8
        }
      ]
    },
    {
      "cell_type": "code",
      "source": [
        "l1[0]"
      ],
      "metadata": {
        "colab": {
          "base_uri": "https://localhost:8080/"
        },
        "id": "M7KIsOHPZySu",
        "outputId": "965a933e-382e-412f-edea-079941a53ca8"
      },
      "execution_count": null,
      "outputs": [
        {
          "output_type": "execute_result",
          "data": {
            "text/plain": [
              "1"
            ]
          },
          "metadata": {},
          "execution_count": 9
        }
      ]
    },
    {
      "cell_type": "code",
      "source": [
        "l1[0] = \"noua valoare\"\n",
        "l1"
      ],
      "metadata": {
        "colab": {
          "base_uri": "https://localhost:8080/"
        },
        "id": "NwYWQCtTaWGz",
        "outputId": "f93021bd-dffa-4097-9bd7-f915067d3aaa"
      },
      "execution_count": null,
      "outputs": [
        {
          "output_type": "execute_result",
          "data": {
            "text/plain": [
              "['noua valoare',\n",
              " 2,\n",
              " 3,\n",
              " 4,\n",
              " 5,\n",
              " 6,\n",
              " 10,\n",
              " 12.23,\n",
              " 'sir de caractere',\n",
              " 'sir de caractere',\n",
              " 'sir de caractere 10',\n",
              " 'sir de caractere 10']"
            ]
          },
          "metadata": {},
          "execution_count": 10
        }
      ]
    },
    {
      "cell_type": "code",
      "source": [
        "l2 = [1, 2, 1, 2, 3, 5, -1]\n",
        "l2.sort()"
      ],
      "metadata": {
        "id": "fYub4K1nabn7"
      },
      "execution_count": null,
      "outputs": []
    },
    {
      "cell_type": "code",
      "source": [
        "l2"
      ],
      "metadata": {
        "colab": {
          "base_uri": "https://localhost:8080/"
        },
        "id": "L2qH7u55akcp",
        "outputId": "086bf694-6c9f-4fac-e46e-0862787d6dfc"
      },
      "execution_count": null,
      "outputs": [
        {
          "output_type": "execute_result",
          "data": {
            "text/plain": [
              "[-1, 1, 1, 2, 2, 3, 5]"
            ]
          },
          "metadata": {},
          "execution_count": 12
        }
      ]
    },
    {
      "cell_type": "code",
      "source": [
        "l2.sort(reverse=True)"
      ],
      "metadata": {
        "id": "7IU62aP7alDw"
      },
      "execution_count": null,
      "outputs": []
    },
    {
      "cell_type": "code",
      "source": [
        "l2"
      ],
      "metadata": {
        "colab": {
          "base_uri": "https://localhost:8080/"
        },
        "id": "LADSBwTlaoot",
        "outputId": "428eb22d-b576-4984-dd9d-7e55be676c32"
      },
      "execution_count": null,
      "outputs": [
        {
          "output_type": "execute_result",
          "data": {
            "text/plain": [
              "[5, 3, 2, 2, 1, 1, -1]"
            ]
          },
          "metadata": {},
          "execution_count": 14
        }
      ]
    },
    {
      "cell_type": "code",
      "source": [
        "d = {\n",
        "    \"nume\": \"IE\",\n",
        "    \"desc\": \"Curs\"\n",
        "}\n",
        "\n",
        "d[\"nume\"]"
      ],
      "metadata": {
        "colab": {
          "base_uri": "https://localhost:8080/",
          "height": 35
        },
        "id": "PWeiQ0wRapX7",
        "outputId": "17ad74cb-bb48-4b91-fb2c-3d63fcb63178"
      },
      "execution_count": null,
      "outputs": [
        {
          "output_type": "execute_result",
          "data": {
            "text/plain": [
              "'IE'"
            ],
            "application/vnd.google.colaboratory.intrinsic+json": {
              "type": "string"
            }
          },
          "metadata": {},
          "execution_count": 15
        }
      ]
    },
    {
      "cell_type": "code",
      "source": [
        "a = 10\n",
        "a = 20\n",
        "\n",
        "l2 = l1\n",
        "l1, l2"
      ],
      "metadata": {
        "colab": {
          "base_uri": "https://localhost:8080/"
        },
        "id": "uIONsXr5bg-D",
        "outputId": "2c1fb32c-bc9b-4f6e-cac0-f09b248c9b78"
      },
      "execution_count": null,
      "outputs": [
        {
          "output_type": "execute_result",
          "data": {
            "text/plain": [
              "(['noua valoare',\n",
              "  2,\n",
              "  3,\n",
              "  4,\n",
              "  5,\n",
              "  6,\n",
              "  10,\n",
              "  12.23,\n",
              "  'sir de caractere',\n",
              "  'sir de caractere',\n",
              "  'sir de caractere 10',\n",
              "  'sir de caractere 10'],\n",
              " ['noua valoare',\n",
              "  2,\n",
              "  3,\n",
              "  4,\n",
              "  5,\n",
              "  6,\n",
              "  10,\n",
              "  12.23,\n",
              "  'sir de caractere',\n",
              "  'sir de caractere',\n",
              "  'sir de caractere 10',\n",
              "  'sir de caractere 10'])"
            ]
          },
          "metadata": {},
          "execution_count": 16
        }
      ]
    },
    {
      "cell_type": "code",
      "source": [
        "l2[0] = -1\n",
        "l1[0], l2[0]"
      ],
      "metadata": {
        "colab": {
          "base_uri": "https://localhost:8080/"
        },
        "id": "IP__CbI7cdK-",
        "outputId": "ffa9be49-97c3-4150-cb44-c579fdeba251"
      },
      "execution_count": null,
      "outputs": [
        {
          "output_type": "execute_result",
          "data": {
            "text/plain": [
              "(-1, -1)"
            ]
          },
          "metadata": {},
          "execution_count": 17
        }
      ]
    },
    {
      "cell_type": "code",
      "source": [
        "l3 = list(l1)\n",
        "l1[0] = -10\n",
        "l1[0], l2[0], l3[0]"
      ],
      "metadata": {
        "colab": {
          "base_uri": "https://localhost:8080/"
        },
        "id": "NfzgV3_7cjnG",
        "outputId": "92097cd8-9d9b-48b7-c3bd-3257cdb6205f"
      },
      "execution_count": null,
      "outputs": [
        {
          "output_type": "execute_result",
          "data": {
            "text/plain": [
              "(-10, -10, -1)"
            ]
          },
          "metadata": {},
          "execution_count": 18
        }
      ]
    },
    {
      "cell_type": "code",
      "source": [
        "t1 = (1, 2, 3)\n",
        "t2 = t1\n",
        "t1, t2"
      ],
      "metadata": {
        "colab": {
          "base_uri": "https://localhost:8080/"
        },
        "id": "BXXLvAJQc1B3",
        "outputId": "d4edc8ec-885e-4062-cce4-5203a6867d1f"
      },
      "execution_count": null,
      "outputs": [
        {
          "output_type": "execute_result",
          "data": {
            "text/plain": [
              "((1, 2, 3), (1, 2, 3))"
            ]
          },
          "metadata": {},
          "execution_count": 19
        }
      ]
    },
    {
      "cell_type": "code",
      "source": [],
      "metadata": {
        "colab": {
          "base_uri": "https://localhost:8080/",
          "height": 176
        },
        "id": "bjdUyNSec8px",
        "outputId": "61b4b659-a31a-466e-af79-68beb9a9fc9f"
      },
      "execution_count": null,
      "outputs": [
        {
          "output_type": "error",
          "ename": "TypeError",
          "evalue": "ignored",
          "traceback": [
            "\u001b[0;31m---------------------------------------------------------------------------\u001b[0m",
            "\u001b[0;31mTypeError\u001b[0m                                 Traceback (most recent call last)",
            "\u001b[0;32m<ipython-input-21-febaef70d198>\u001b[0m in \u001b[0;36m<cell line: 1>\u001b[0;34m()\u001b[0m\n\u001b[0;32m----> 1\u001b[0;31m \u001b[0mt1\u001b[0m\u001b[0;34m[\u001b[0m\u001b[0;36m0\u001b[0m\u001b[0;34m]\u001b[0m \u001b[0;34m=\u001b[0m \u001b[0;36m0\u001b[0m\u001b[0;34m\u001b[0m\u001b[0;34m\u001b[0m\u001b[0m\n\u001b[0m",
            "\u001b[0;31mTypeError\u001b[0m: 'tuple' object does not support item assignment"
          ]
        }
      ]
    },
    {
      "cell_type": "code",
      "source": [],
      "metadata": {
        "id": "Cs7UX7ttdADg"
      },
      "execution_count": null,
      "outputs": []
    }
  ]
}